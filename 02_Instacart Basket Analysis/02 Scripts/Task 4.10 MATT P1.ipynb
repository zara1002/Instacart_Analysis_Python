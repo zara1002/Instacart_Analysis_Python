{
 "cells": [
  {
   "attachments": {},
   "cell_type": "markdown",
   "id": "e4fcf56c",
   "metadata": {},
   "source": [
    "TABLE OF CONTENTS\n",
    "\n",
    "- 1.\tImport libraries, define path, and import DataFrame.\n",
    "- 2.\tLook for and address any Personally Identifiable Information (PII)\n",
    "    - 2a. Display the column headings.\n",
    "    - 2b. Display basic information about the DataFrame.\n",
    "    - 2c. Display DataFrame output.\n",
    "- 3.\tCreate a regional segmentation of the data and determine if there’s a difference in spending habits between the different US regions.\n",
    "    - 3a. Create a region column based on the state column.\n",
    "    - 3b. Determine if there’s a difference in spending habits between the 4 regions.\n",
    "- 4.\tThe Instacart CFO isn’t interested in customers who don’t generate much revenue for the app.\n",
    "    - 4a. Create an exclusion flag for low-activity customers (customers with less than 5 orders)\n",
    "    - 4b. Export the low-activity customers sample\n",
    "    - 4c. Remove the low-activity customers from the main dataframe"
   ]
  },
  {
   "cell_type": "markdown",
   "id": "88e9ad2f",
   "metadata": {},
   "source": [
    "# 1. Import Libraries, define path & import dataframe"
   ]
  },
  {
   "cell_type": "code",
   "execution_count": 1,
   "id": "de1276bf",
   "metadata": {},
   "outputs": [],
   "source": [
    "## Import libraries\n",
    "\n",
    "import pandas as pd\n",
    "import numpy as np\n",
    "import os\n",
    "\n",
    "## Define path\n",
    "\n",
    "path = r'/Users/aislingm/Documents/02-08-2023 Instacart Basket Analysis'\n",
    "\n",
    "## Import Dataframe\n",
    "\n",
    "df_all = pd.read_pickle(os.path.join(path, '02 Data', 'Prepared Data', 'ic_basket_merged.pkl'))"
   ]
  },
  {
   "cell_type": "markdown",
   "id": "0b7eefb1",
   "metadata": {},
   "source": [
    "# 2. Look for and address any Personally Identifiable Information (PII)"
   ]
  },
  {
   "cell_type": "code",
   "execution_count": 2,
   "id": "8e0fb4c3",
   "metadata": {},
   "outputs": [
    {
     "name": "stdout",
     "output_type": "stream",
     "text": [
      "Index(['user_id', 'gender', 'state', 'age', 'date_joined', 'n_dependants',\n",
      "       'fam_status', 'income', 'order_id', 'order_number',\n",
      "       'orders_day_of_week', 'order_hour_of_day', 'days_since_prior_order',\n",
      "       'product_id', 'add_to_cart_order', 'reordered', 'product_name',\n",
      "       'aisle_id', 'department_id', 'prices', 'price_range_loc', 'busiest_day',\n",
      "       'busiest_days', 'busiest_period_of_day', 'max_order', 'loyalty_flag',\n",
      "       'avg_spend', 'spending_level', 'median_days_since_prior',\n",
      "       'order_frequency_level'],\n",
      "      dtype='object')\n"
     ]
    }
   ],
   "source": [
    "## Display the column headings of my dataframe using the columns attribute\n",
    "\n",
    "print(df_all.columns)"
   ]
  },
  {
   "cell_type": "code",
   "execution_count": 3,
   "id": "12b74d95",
   "metadata": {},
   "outputs": [
    {
     "name": "stdout",
     "output_type": "stream",
     "text": [
      "<class 'pandas.core.frame.DataFrame'>\n",
      "Int64Index: 32404859 entries, 0 to 32404858\n",
      "Data columns (total 30 columns):\n",
      " #   Column                   Dtype  \n",
      "---  ------                   -----  \n",
      " 0   user_id                  object \n",
      " 1   gender                   object \n",
      " 2   state                    object \n",
      " 3   age                      int64  \n",
      " 4   date_joined              object \n",
      " 5   n_dependants             int64  \n",
      " 6   fam_status               object \n",
      " 7   income                   int64  \n",
      " 8   order_id                 int64  \n",
      " 9   order_number             int64  \n",
      " 10  orders_day_of_week       int64  \n",
      " 11  order_hour_of_day        int64  \n",
      " 12  days_since_prior_order   float64\n",
      " 13  product_id               int64  \n",
      " 14  add_to_cart_order        int64  \n",
      " 15  reordered                int64  \n",
      " 16  product_name             object \n",
      " 17  aisle_id                 int64  \n",
      " 18  department_id            int64  \n",
      " 19  prices                   float64\n",
      " 20  price_range_loc          object \n",
      " 21  busiest_day              object \n",
      " 22  busiest_days             object \n",
      " 23  busiest_period_of_day    object \n",
      " 24  max_order                int64  \n",
      " 25  loyalty_flag             object \n",
      " 26  avg_spend                float64\n",
      " 27  spending_level           object \n",
      " 28  median_days_since_prior  float64\n",
      " 29  order_frequency_level    object \n",
      "dtypes: float64(4), int64(13), object(13)\n",
      "memory usage: 7.5+ GB\n"
     ]
    }
   ],
   "source": [
    "## Display basic information about the DataFrame using the info() method\n",
    "\n",
    "df_all.info()"
   ]
  },
  {
   "cell_type": "code",
   "execution_count": 4,
   "id": "4cdceb17",
   "metadata": {},
   "outputs": [
    {
     "data": {
      "text/html": [
       "<div>\n",
       "<style scoped>\n",
       "    .dataframe tbody tr th:only-of-type {\n",
       "        vertical-align: middle;\n",
       "    }\n",
       "\n",
       "    .dataframe tbody tr th {\n",
       "        vertical-align: top;\n",
       "    }\n",
       "\n",
       "    .dataframe thead th {\n",
       "        text-align: right;\n",
       "    }\n",
       "</style>\n",
       "<table border=\"1\" class=\"dataframe\">\n",
       "  <thead>\n",
       "    <tr style=\"text-align: right;\">\n",
       "      <th></th>\n",
       "      <th>user_id</th>\n",
       "      <th>gender</th>\n",
       "      <th>state</th>\n",
       "      <th>age</th>\n",
       "      <th>date_joined</th>\n",
       "      <th>n_dependants</th>\n",
       "      <th>fam_status</th>\n",
       "      <th>income</th>\n",
       "      <th>order_id</th>\n",
       "      <th>order_number</th>\n",
       "      <th>...</th>\n",
       "      <th>price_range_loc</th>\n",
       "      <th>busiest_day</th>\n",
       "      <th>busiest_days</th>\n",
       "      <th>busiest_period_of_day</th>\n",
       "      <th>max_order</th>\n",
       "      <th>loyalty_flag</th>\n",
       "      <th>avg_spend</th>\n",
       "      <th>spending_level</th>\n",
       "      <th>median_days_since_prior</th>\n",
       "      <th>order_frequency_level</th>\n",
       "    </tr>\n",
       "  </thead>\n",
       "  <tbody>\n",
       "    <tr>\n",
       "      <th>0</th>\n",
       "      <td>26711</td>\n",
       "      <td>Female</td>\n",
       "      <td>Missouri</td>\n",
       "      <td>48</td>\n",
       "      <td>1/1/2017</td>\n",
       "      <td>3</td>\n",
       "      <td>married</td>\n",
       "      <td>165665</td>\n",
       "      <td>2543867</td>\n",
       "      <td>5</td>\n",
       "      <td>...</td>\n",
       "      <td>Mid-range product</td>\n",
       "      <td>Regularly busy</td>\n",
       "      <td>Busiest days</td>\n",
       "      <td>Most orders</td>\n",
       "      <td>8</td>\n",
       "      <td>New customer</td>\n",
       "      <td>7.988889</td>\n",
       "      <td>Low spender</td>\n",
       "      <td>19.0</td>\n",
       "      <td>Regular Customer</td>\n",
       "    </tr>\n",
       "    <tr>\n",
       "      <th>1</th>\n",
       "      <td>26711</td>\n",
       "      <td>Female</td>\n",
       "      <td>Missouri</td>\n",
       "      <td>48</td>\n",
       "      <td>1/1/2017</td>\n",
       "      <td>3</td>\n",
       "      <td>married</td>\n",
       "      <td>165665</td>\n",
       "      <td>1285508</td>\n",
       "      <td>7</td>\n",
       "      <td>...</td>\n",
       "      <td>Mid-range product</td>\n",
       "      <td>Regularly busy</td>\n",
       "      <td>Regularly busy</td>\n",
       "      <td>Most orders</td>\n",
       "      <td>8</td>\n",
       "      <td>New customer</td>\n",
       "      <td>7.988889</td>\n",
       "      <td>Low spender</td>\n",
       "      <td>19.0</td>\n",
       "      <td>Regular Customer</td>\n",
       "    </tr>\n",
       "    <tr>\n",
       "      <th>2</th>\n",
       "      <td>26711</td>\n",
       "      <td>Female</td>\n",
       "      <td>Missouri</td>\n",
       "      <td>48</td>\n",
       "      <td>1/1/2017</td>\n",
       "      <td>3</td>\n",
       "      <td>married</td>\n",
       "      <td>165665</td>\n",
       "      <td>2578584</td>\n",
       "      <td>8</td>\n",
       "      <td>...</td>\n",
       "      <td>Mid-range product</td>\n",
       "      <td>Regularly busy</td>\n",
       "      <td>Busiest days</td>\n",
       "      <td>Most orders</td>\n",
       "      <td>8</td>\n",
       "      <td>New customer</td>\n",
       "      <td>7.988889</td>\n",
       "      <td>Low spender</td>\n",
       "      <td>19.0</td>\n",
       "      <td>Regular Customer</td>\n",
       "    </tr>\n",
       "    <tr>\n",
       "      <th>3</th>\n",
       "      <td>26711</td>\n",
       "      <td>Female</td>\n",
       "      <td>Missouri</td>\n",
       "      <td>48</td>\n",
       "      <td>1/1/2017</td>\n",
       "      <td>3</td>\n",
       "      <td>married</td>\n",
       "      <td>165665</td>\n",
       "      <td>423547</td>\n",
       "      <td>2</td>\n",
       "      <td>...</td>\n",
       "      <td>Mid-range product</td>\n",
       "      <td>Regularly busy</td>\n",
       "      <td>Regularly busy</td>\n",
       "      <td>Most orders</td>\n",
       "      <td>8</td>\n",
       "      <td>New customer</td>\n",
       "      <td>7.988889</td>\n",
       "      <td>Low spender</td>\n",
       "      <td>19.0</td>\n",
       "      <td>Regular Customer</td>\n",
       "    </tr>\n",
       "    <tr>\n",
       "      <th>4</th>\n",
       "      <td>26711</td>\n",
       "      <td>Female</td>\n",
       "      <td>Missouri</td>\n",
       "      <td>48</td>\n",
       "      <td>1/1/2017</td>\n",
       "      <td>3</td>\n",
       "      <td>married</td>\n",
       "      <td>165665</td>\n",
       "      <td>2524893</td>\n",
       "      <td>3</td>\n",
       "      <td>...</td>\n",
       "      <td>Mid-range product</td>\n",
       "      <td>Regularly busy</td>\n",
       "      <td>Least busy days</td>\n",
       "      <td>Most orders</td>\n",
       "      <td>8</td>\n",
       "      <td>New customer</td>\n",
       "      <td>7.988889</td>\n",
       "      <td>Low spender</td>\n",
       "      <td>19.0</td>\n",
       "      <td>Regular Customer</td>\n",
       "    </tr>\n",
       "  </tbody>\n",
       "</table>\n",
       "<p>5 rows × 30 columns</p>\n",
       "</div>"
      ],
      "text/plain": [
       "  user_id  gender     state  age date_joined  n_dependants fam_status  income  \\\n",
       "0   26711  Female  Missouri   48    1/1/2017             3    married  165665   \n",
       "1   26711  Female  Missouri   48    1/1/2017             3    married  165665   \n",
       "2   26711  Female  Missouri   48    1/1/2017             3    married  165665   \n",
       "3   26711  Female  Missouri   48    1/1/2017             3    married  165665   \n",
       "4   26711  Female  Missouri   48    1/1/2017             3    married  165665   \n",
       "\n",
       "   order_id  order_number  ...    price_range_loc     busiest_day  \\\n",
       "0   2543867             5  ...  Mid-range product  Regularly busy   \n",
       "1   1285508             7  ...  Mid-range product  Regularly busy   \n",
       "2   2578584             8  ...  Mid-range product  Regularly busy   \n",
       "3    423547             2  ...  Mid-range product  Regularly busy   \n",
       "4   2524893             3  ...  Mid-range product  Regularly busy   \n",
       "\n",
       "      busiest_days  busiest_period_of_day  max_order  loyalty_flag avg_spend  \\\n",
       "0     Busiest days            Most orders          8  New customer  7.988889   \n",
       "1   Regularly busy            Most orders          8  New customer  7.988889   \n",
       "2     Busiest days            Most orders          8  New customer  7.988889   \n",
       "3   Regularly busy            Most orders          8  New customer  7.988889   \n",
       "4  Least busy days            Most orders          8  New customer  7.988889   \n",
       "\n",
       "   spending_level  median_days_since_prior  order_frequency_level  \n",
       "0     Low spender                     19.0       Regular Customer  \n",
       "1     Low spender                     19.0       Regular Customer  \n",
       "2     Low spender                     19.0       Regular Customer  \n",
       "3     Low spender                     19.0       Regular Customer  \n",
       "4     Low spender                     19.0       Regular Customer  \n",
       "\n",
       "[5 rows x 30 columns]"
      ]
     },
     "execution_count": 4,
     "metadata": {},
     "output_type": "execute_result"
    }
   ],
   "source": [
    "## Display dataframe output using the head() function\n",
    "\n",
    "df_all.head()"
   ]
  },
  {
   "cell_type": "code",
   "execution_count": 5,
   "id": "86bbf387",
   "metadata": {},
   "outputs": [],
   "source": [
    "## My current dataframe has no PII.\n",
    "#PII data includes Particularly sensitive are names, email addresses, physical addresses and phone numbers.\n",
    "## During my data cleaning I reviewed the project brief and given there was no need to include personal information \n",
    "# I dropped the 2 PII variables that existed which were first_name and surnam. There is no other PII data in my\n",
    "# current Dataframe"
   ]
  },
  {
   "cell_type": "markdown",
   "id": "375bee30",
   "metadata": {},
   "source": [
    "# 3. Create a regional segmentation of the data and determine if there's a difference in spending habits between the different US regions"
   ]
  },
  {
   "cell_type": "markdown",
   "id": "894fb530",
   "metadata": {},
   "source": [
    "### Create a region column based on the state column"
   ]
  },
  {
   "cell_type": "code",
   "execution_count": 7,
   "id": "98b738f5",
   "metadata": {},
   "outputs": [
    {
     "data": {
      "text/plain": [
       "Pennsylvania            667082\n",
       "California              659783\n",
       "Rhode Island            656913\n",
       "Georgia                 656389\n",
       "New Mexico              654494\n",
       "Arizona                 653964\n",
       "North Carolina          651900\n",
       "Oklahoma                651739\n",
       "Alaska                  648495\n",
       "Minnesota               647825\n",
       "Massachusetts           646358\n",
       "Wyoming                 644255\n",
       "Virginia                641421\n",
       "Missouri                640732\n",
       "Texas                   640394\n",
       "Colorado                639280\n",
       "Maine                   638583\n",
       "North Dakota            638491\n",
       "Alabama                 638003\n",
       "Kansas                  637538\n",
       "Louisiana               637482\n",
       "Delaware                637024\n",
       "South Carolina          636754\n",
       "Oregon                  636425\n",
       "Arkansas                636144\n",
       "Nevada                  636139\n",
       "New York                635983\n",
       "Montana                 635265\n",
       "South Dakota            633772\n",
       "Illinois                633024\n",
       "Hawaii                  632901\n",
       "Washington              632852\n",
       "Mississippi             632675\n",
       "Kentucky                632490\n",
       "Michigan                630928\n",
       "Florida                 629027\n",
       "Ohio                    628319\n",
       "Wisconsin               628108\n",
       "New Jersey              627692\n",
       "Indiana                 627282\n",
       "Maryland                626579\n",
       "Nebraska                625813\n",
       "Iowa                    625493\n",
       "Connecticut             623022\n",
       "Tennessee               617873\n",
       "New Hampshire           615378\n",
       "District of Columbia    613695\n",
       "West Virginia           612296\n",
       "Utah                    611941\n",
       "Vermont                 611725\n",
       "Idaho                   607119\n",
       "Name: state, dtype: int64"
      ]
     },
     "execution_count": 7,
     "metadata": {},
     "output_type": "execute_result"
    }
   ],
   "source": [
    "## I will check the frequency of the state column to cross refernce results with my new region column\n",
    "# once it's created and populated\n",
    "\n",
    "df_all['state'].value_counts(dropna = False)"
   ]
  },
  {
   "cell_type": "code",
   "execution_count": 8,
   "id": "e7bd8460",
   "metadata": {},
   "outputs": [],
   "source": [
    "## I will now use If-Statements with For_loops.\n",
    "\n",
    "# Create and empty list region which acts as an empty shell where I will place the results from my loop\n",
    "\n",
    "region = []\n",
    "\n",
    "for value in df_all['state']:\n",
    "    if value in ['Maine','New Hampshire','Vermont','Massachusetts','Rhode Island','Connecticut','New York','Pennsylvania','New Jersey']:\n",
    "        region.append('Northeast')\n",
    "    elif value in ['Wisconsin','Michigan','Illinois','Indiana','Ohio','North Dakota','South Dakota','Nebraska','Kansas','Minnesota','Iowa','Missouri']:\n",
    "        region.append('Midwest')\n",
    "    elif value in ['Delaware','Maryland','District of Columbia','Virginia','West Virginia','North Carolina','South Carolina','Georgia','Florida','Kentucky','Tennessee','Mississippi','Alabama','Oklahoma','Texas','Arkansas','Louisiana']:\n",
    "        region.append('South')\n",
    "    else:\n",
    "        region.append('West')\n",
    "        \n",
    "# Now we need to combine this with our dataframe so we can use it effectively. To do so we create the new region column\n",
    "# within our dataframe and set it equal to region\n",
    "\n",
    "df_all['region'] = region"
   ]
  },
  {
   "cell_type": "code",
   "execution_count": 9,
   "id": "8847bda7",
   "metadata": {},
   "outputs": [
    {
     "name": "stdout",
     "output_type": "stream",
     "text": [
      "Index(['user_id', 'gender', 'state', 'age', 'date_joined', 'n_dependants',\n",
      "       'fam_status', 'income', 'order_id', 'order_number',\n",
      "       'orders_day_of_week', 'order_hour_of_day', 'days_since_prior_order',\n",
      "       'product_id', 'add_to_cart_order', 'reordered', 'product_name',\n",
      "       'aisle_id', 'department_id', 'prices', 'price_range_loc', 'busiest_day',\n",
      "       'busiest_days', 'busiest_period_of_day', 'max_order', 'loyalty_flag',\n",
      "       'avg_spend', 'spending_level', 'median_days_since_prior',\n",
      "       'order_frequency_level', 'region'],\n",
      "      dtype='object')\n"
     ]
    },
    {
     "data": {
      "text/plain": [
       "<bound method DataFrame.info of          user_id  gender     state  age date_joined  n_dependants fam_status  \\\n",
       "0          26711  Female  Missouri   48    1/1/2017             3    married   \n",
       "1          26711  Female  Missouri   48    1/1/2017             3    married   \n",
       "2          26711  Female  Missouri   48    1/1/2017             3    married   \n",
       "3          26711  Female  Missouri   48    1/1/2017             3    married   \n",
       "4          26711  Female  Missouri   48    1/1/2017             3    married   \n",
       "...          ...     ...       ...  ...         ...           ...        ...   \n",
       "32404854   80148  Female  New York   55    4/1/2020             1    married   \n",
       "32404855   80148  Female  New York   55    4/1/2020             1    married   \n",
       "32404856   80148  Female  New York   55    4/1/2020             1    married   \n",
       "32404857   80148  Female  New York   55    4/1/2020             1    married   \n",
       "32404858   80148  Female  New York   55    4/1/2020             1    married   \n",
       "\n",
       "          income  order_id  order_number  ...     busiest_day  \\\n",
       "0         165665   2543867             5  ...  Regularly busy   \n",
       "1         165665   1285508             7  ...  Regularly busy   \n",
       "2         165665   2578584             8  ...  Regularly busy   \n",
       "3         165665    423547             2  ...  Regularly busy   \n",
       "4         165665   2524893             3  ...  Regularly busy   \n",
       "...          ...       ...           ...  ...             ...   \n",
       "32404854   57095   2859858             3  ...  Regularly busy   \n",
       "32404855   57095   2859858             3  ...  Regularly busy   \n",
       "32404856   57095   3209855             4  ...  Regularly busy   \n",
       "32404857   57095   2859858             3  ...  Regularly busy   \n",
       "32404858   57095   2859858             3  ...  Regularly busy   \n",
       "\n",
       "             busiest_days  busiest_period_of_day  max_order  loyalty_flag  \\\n",
       "0            Busiest days            Most orders          8  New customer   \n",
       "1          Regularly busy            Most orders          8  New customer   \n",
       "2            Busiest days            Most orders          8  New customer   \n",
       "3          Regularly busy            Most orders          8  New customer   \n",
       "4         Least busy days            Most orders          8  New customer   \n",
       "...                   ...                    ...        ...           ...   \n",
       "32404854   Regularly busy            Most orders          4  New customer   \n",
       "32404855   Regularly busy            Most orders          4  New customer   \n",
       "32404856   Regularly busy         Average orders          4  New customer   \n",
       "32404857   Regularly busy            Most orders          4  New customer   \n",
       "32404858   Regularly busy            Most orders          4  New customer   \n",
       "\n",
       "          avg_spend spending_level  median_days_since_prior  \\\n",
       "0          7.988889    Low spender                     19.0   \n",
       "1          7.988889    Low spender                     19.0   \n",
       "2          7.988889    Low spender                     19.0   \n",
       "3          7.988889    Low spender                     19.0   \n",
       "4          7.988889    Low spender                     19.0   \n",
       "...             ...            ...                      ...   \n",
       "32404854   3.886667    Low spender                     12.0   \n",
       "32404855   3.886667    Low spender                     12.0   \n",
       "32404856   3.886667    Low spender                     12.0   \n",
       "32404857   3.886667    Low spender                     12.0   \n",
       "32404858   3.886667    Low spender                     12.0   \n",
       "\n",
       "          order_frequency_level     region  \n",
       "0              Regular Customer    Midwest  \n",
       "1              Regular Customer    Midwest  \n",
       "2              Regular Customer    Midwest  \n",
       "3              Regular Customer    Midwest  \n",
       "4              Regular Customer    Midwest  \n",
       "...                         ...        ...  \n",
       "32404854       Regular Customer  Northeast  \n",
       "32404855       Regular Customer  Northeast  \n",
       "32404856       Regular Customer  Northeast  \n",
       "32404857       Regular Customer  Northeast  \n",
       "32404858       Regular Customer  Northeast  \n",
       "\n",
       "[32404859 rows x 31 columns]>"
      ]
     },
     "execution_count": 9,
     "metadata": {},
     "output_type": "execute_result"
    }
   ],
   "source": [
    "## Check new dataframe\n",
    "\n",
    "df_all.shape\n",
    "\n",
    "print(df_all.columns)\n",
    "\n",
    "df_all.info"
   ]
  },
  {
   "cell_type": "code",
   "execution_count": 10,
   "id": "306ad8d1",
   "metadata": {},
   "outputs": [
    {
     "data": {
      "text/plain": [
       "South        10791885\n",
       "West          8292913\n",
       "Midwest       7597325\n",
       "Northeast     5722736\n",
       "Name: region, dtype: int64"
      ]
     },
     "execution_count": 10,
     "metadata": {},
     "output_type": "execute_result"
    }
   ],
   "source": [
    "## All that is left to check is the frequency of our new column: if we compare to the frequency of our state column we \n",
    "# can confirm our newly created column is accurate.\n",
    "\n",
    "df_all['region'].value_counts(dropna = False)"
   ]
  },
  {
   "cell_type": "code",
   "execution_count": 11,
   "id": "6fcc06c7",
   "metadata": {},
   "outputs": [],
   "source": [
    "# I will export my latest dataframe before continuing to ensure we always have access to the most up \n",
    "# to date dataframe.\n",
    "\n",
    "df_all.to_pickle(os.path.join(path, '02 Data', 'Prepared Data', 'df_all_region.pkl'))"
   ]
  },
  {
   "cell_type": "code",
   "execution_count": null,
   "id": "64049a79",
   "metadata": {},
   "outputs": [],
   "source": []
  },
  {
   "cell_type": "markdown",
   "id": "ce5a757f",
   "metadata": {},
   "source": [
    "### Determine if there's a difference in spending habits between the 4 regions"
   ]
  },
  {
   "cell_type": "code",
   "execution_count": 12,
   "id": "a57cb5d2",
   "metadata": {},
   "outputs": [],
   "source": [
    "crosstab = pd.crosstab(df_all['region'], df_all['spending_level'], dropna = False)"
   ]
  },
  {
   "cell_type": "code",
   "execution_count": 15,
   "id": "d573d3ae",
   "metadata": {},
   "outputs": [],
   "source": [
    "# copy the table to your clipboard and paste into Excel\n",
    "\n",
    "crosstab.to_clipboard()\n",
    "\n",
    "# By copying the data into excel I was able to get a better insight as to what the data looked like. Based on this\n",
    "# I concluded it made more sense to make the comparison on spending habits between regions based on the ration of High and Low spender per region.\n",
    "# See the code and resulting graph below:\n",
    "# Note I need to import the visualization libraries before proceding:\n",
    "\n",
    "import matplotlib.pyplot as plt\n",
    "import seaborn as sns\n",
    "import scipy"
   ]
  },
  {
   "cell_type": "code",
   "execution_count": 22,
   "id": "94a9c238",
   "metadata": {},
   "outputs": [
    {
     "data": {
      "image/png": "[encoded data removed]",
      "text/plain": [
       "<Figure size 1000x600 with 1 Axes>"
      ]
     },
     "metadata": {},
     "output_type": "display_data"
    }
   ],
   "source": [
    "# Create DataFrame\n",
    "data = {\n",
    "    \"Region\": [\"Midwest\", \"Northeast\", \"South\", \"West\"],\n",
    "    \"High spender\": [155975, 108225, 209691, 160354],\n",
    "    \"Low spender\": [7441350, 5614511, 10582194, 8132559]\n",
    "}\n",
    "\n",
    "df = pd.DataFrame(data)\n",
    "\n",
    "# Calculate Ratios\n",
    "\n",
    "df[\"High Spender Ratio\"] = df[\"High spender\"] / (df[\"High spender\"] + df[\"Low spender\"])\n",
    "df[\"Low Spender Ratio\"] = df[\"Low spender\"] / (df[\"High spender\"] + df[\"Low spender\"])\n",
    "\n",
    "# Generate the Graph\n",
    "\n",
    "plt.figure(figsize=(10, 6))\n",
    "\n",
    "plt.bar(df[\"Region\"], df[\"High Spender Ratio\"], label=\"High Spender Ratio\", color='blue')\n",
    "plt.bar(df[\"Region\"], df[\"Low Spender Ratio\"], bottom=df[\"High Spender Ratio\"], label=\"Low Spender Ratio\", color='orange')\n",
    "\n",
    "plt.xlabel(\"Region\")\n",
    "plt.ylabel(\"Ratio\")\n",
    "plt.title(\"High and Low Spender Ratios by Region\")\n",
    "plt.ylim(0, 1.2)  # Set y-axis range between 0 and 1 for ratios\n",
    "plt.legend()\n",
    "\n",
    "# Define save location\n",
    "\n",
    "save_path = os.path.join(path, '04 Analysis', 'Visualizations', 'high_low_spender_ratio_region.png')\n",
    "\n",
    "# Save chart\n",
    "\n",
    "plt.savefig(save_path)\n",
    "\n",
    "# Show the chart\n",
    "\n",
    "plt.show()\n",
    "\n",
    "\n",
    "# In this code, I've added a second bar call to plot the low spender ratios on top of the high spender ratios, \n",
    "# using the bottom parameter to stack them. The label parameter is used to label each bar series, \n",
    "# and the legend() function is used to display a legend indicating which color corresponds to which spender ratio.\n",
    "\n",
    "# The result will be a grouped bar chart showing both the high and low spender ratios for each region, \n",
    "# allowing you to visually compare the two ratios side by side."
   ]
  },
  {
   "cell_type": "code",
   "execution_count": 17,
   "id": "b90d07db",
   "metadata": {},
   "outputs": [],
   "source": [
    "# Determine whether there’s a difference in spending habits between the different U.S. regions.\n",
    "\n",
    "# based on the ratio for high and low sepnder by region there is no difference. The high ratio spender for\n",
    "# all regions is 2% and the low ratio spender for all regions is 98%\n"
   ]
  },
  {
   "cell_type": "markdown",
   "id": "8321c622",
   "metadata": {},
   "source": [
    "# 4 The IC CFO is not insterested in customers who don't generate much revenue for the ap. Create an exclusion flag for low_activity customers with less than 5 orders"
   ]
  },
  {
   "cell_type": "code",
   "execution_count": 23,
   "id": "9b835a39",
   "metadata": {},
   "outputs": [],
   "source": [
    "### There are 2 approches I can take here (that I am familiar with). I could use a loop or .loc function for conditional assignments\n",
    "# Here is a summary of both approches:\n",
    "\n",
    "# Using a loop:\n",
    "# Pros:\n",
    "# Works without any external libraries.\n",
    "#More explicit if you're new to programming or need to understand each step.\n",
    "#Cons:\n",
    "#Involves an explicit loop, which might be less efficient for large DataFrames.\n",
    "\n",
    "# Using .loc for conditional assignment:\n",
    "#Pros:\n",
    "#More concise and idiomatic.\n",
    "#Generally more efficient, especially for larger DataFrames.\n",
    "#Better adheres to pandas best practices.\n",
    "#Cons:\n",
    "#Requires some familiarity with pandas' .loc syntax.\n",
    "\n",
    "# In the previous task I choose to use a loop so that's why I am now choosing the .loc function"
   ]
  },
  {
   "cell_type": "markdown",
   "id": "ce03598d",
   "metadata": {},
   "source": [
    "### Create an exclusion flag for low_activity customers"
   ]
  },
  {
   "cell_type": "code",
   "execution_count": 24,
   "id": "806b6c35",
   "metadata": {},
   "outputs": [
    {
     "name": "stdout",
     "output_type": "stream",
     "text": [
      "Index(['user_id', 'gender', 'state', 'age', 'date_joined', 'n_dependants',\n",
      "       'fam_status', 'income', 'order_id', 'order_number',\n",
      "       'orders_day_of_week', 'order_hour_of_day', 'days_since_prior_order',\n",
      "       'product_id', 'add_to_cart_order', 'reordered', 'product_name',\n",
      "       'aisle_id', 'department_id', 'prices', 'price_range_loc', 'busiest_day',\n",
      "       'busiest_days', 'busiest_period_of_day', 'max_order', 'loyalty_flag',\n",
      "       'avg_spend', 'spending_level', 'median_days_since_prior',\n",
      "       'order_frequency_level', 'region'],\n",
      "      dtype='object')\n"
     ]
    },
    {
     "data": {
      "text/plain": [
       "<bound method DataFrame.info of          user_id  gender     state  age date_joined  n_dependants fam_status  \\\n",
       "0          26711  Female  Missouri   48    1/1/2017             3    married   \n",
       "1          26711  Female  Missouri   48    1/1/2017             3    married   \n",
       "2          26711  Female  Missouri   48    1/1/2017             3    married   \n",
       "3          26711  Female  Missouri   48    1/1/2017             3    married   \n",
       "4          26711  Female  Missouri   48    1/1/2017             3    married   \n",
       "...          ...     ...       ...  ...         ...           ...        ...   \n",
       "32404854   80148  Female  New York   55    4/1/2020             1    married   \n",
       "32404855   80148  Female  New York   55    4/1/2020             1    married   \n",
       "32404856   80148  Female  New York   55    4/1/2020             1    married   \n",
       "32404857   80148  Female  New York   55    4/1/2020             1    married   \n",
       "32404858   80148  Female  New York   55    4/1/2020             1    married   \n",
       "\n",
       "          income  order_id  order_number  ...     busiest_day  \\\n",
       "0         165665   2543867             5  ...  Regularly busy   \n",
       "1         165665   1285508             7  ...  Regularly busy   \n",
       "2         165665   2578584             8  ...  Regularly busy   \n",
       "3         165665    423547             2  ...  Regularly busy   \n",
       "4         165665   2524893             3  ...  Regularly busy   \n",
       "...          ...       ...           ...  ...             ...   \n",
       "32404854   57095   2859858             3  ...  Regularly busy   \n",
       "32404855   57095   2859858             3  ...  Regularly busy   \n",
       "32404856   57095   3209855             4  ...  Regularly busy   \n",
       "32404857   57095   2859858             3  ...  Regularly busy   \n",
       "32404858   57095   2859858             3  ...  Regularly busy   \n",
       "\n",
       "             busiest_days  busiest_period_of_day  max_order  loyalty_flag  \\\n",
       "0            Busiest days            Most orders          8  New customer   \n",
       "1          Regularly busy            Most orders          8  New customer   \n",
       "2            Busiest days            Most orders          8  New customer   \n",
       "3          Regularly busy            Most orders          8  New customer   \n",
       "4         Least busy days            Most orders          8  New customer   \n",
       "...                   ...                    ...        ...           ...   \n",
       "32404854   Regularly busy            Most orders          4  New customer   \n",
       "32404855   Regularly busy            Most orders          4  New customer   \n",
       "32404856   Regularly busy         Average orders          4  New customer   \n",
       "32404857   Regularly busy            Most orders          4  New customer   \n",
       "32404858   Regularly busy            Most orders          4  New customer   \n",
       "\n",
       "          avg_spend spending_level  median_days_since_prior  \\\n",
       "0          7.988889    Low spender                     19.0   \n",
       "1          7.988889    Low spender                     19.0   \n",
       "2          7.988889    Low spender                     19.0   \n",
       "3          7.988889    Low spender                     19.0   \n",
       "4          7.988889    Low spender                     19.0   \n",
       "...             ...            ...                      ...   \n",
       "32404854   3.886667    Low spender                     12.0   \n",
       "32404855   3.886667    Low spender                     12.0   \n",
       "32404856   3.886667    Low spender                     12.0   \n",
       "32404857   3.886667    Low spender                     12.0   \n",
       "32404858   3.886667    Low spender                     12.0   \n",
       "\n",
       "          order_frequency_level     region  \n",
       "0              Regular Customer    Midwest  \n",
       "1              Regular Customer    Midwest  \n",
       "2              Regular Customer    Midwest  \n",
       "3              Regular Customer    Midwest  \n",
       "4              Regular Customer    Midwest  \n",
       "...                         ...        ...  \n",
       "32404854       Regular Customer  Northeast  \n",
       "32404855       Regular Customer  Northeast  \n",
       "32404856       Regular Customer  Northeast  \n",
       "32404857       Regular Customer  Northeast  \n",
       "32404858       Regular Customer  Northeast  \n",
       "\n",
       "[32404859 rows x 31 columns]>"
      ]
     },
     "execution_count": 24,
     "metadata": {},
     "output_type": "execute_result"
    }
   ],
   "source": [
    "## I will make sure I am using the latest dataframe:\n",
    "\n",
    "df_all.shape\n",
    "\n",
    "print(df_all.columns)\n",
    "\n",
    "df_all.info\n"
   ]
  },
  {
   "cell_type": "code",
   "execution_count": 25,
   "id": "d2529c3a",
   "metadata": {},
   "outputs": [],
   "source": [
    "## Now that I know the dataframe I am working with is the same one i was working with last nighht I wll proceed\n",
    "# to create an exclusion flag for low_activity customers and exclude it from my dataframe"
   ]
  },
  {
   "cell_type": "code",
   "execution_count": 28,
   "id": "c92fc05a",
   "metadata": {},
   "outputs": [],
   "source": [
    "df_all.loc[df_all['max_order'] < 5, 'activity'] = 'low_activity'"
   ]
  },
  {
   "cell_type": "code",
   "execution_count": 29,
   "id": "04bd8981",
   "metadata": {},
   "outputs": [],
   "source": [
    "df_all.loc[df_all['max_order'] >= 5, 'activity'] = 'high_activity'"
   ]
  },
  {
   "cell_type": "code",
   "execution_count": 30,
   "id": "df36fd4f",
   "metadata": {},
   "outputs": [
    {
     "data": {
      "text/plain": [
       "high_activity    30964564\n",
       "low_activity      1440295\n",
       "Name: activity, dtype: int64"
      ]
     },
     "execution_count": 30,
     "metadata": {},
     "output_type": "execute_result"
    }
   ],
   "source": [
    "## Check results's frequency\n",
    "\n",
    "df_all['activity'].value_counts(dropna = False)"
   ]
  },
  {
   "cell_type": "code",
   "execution_count": 31,
   "id": "f23c2ca7",
   "metadata": {},
   "outputs": [
    {
     "data": {
      "text/plain": [
       "(32404859, 32)"
      ]
     },
     "execution_count": 31,
     "metadata": {},
     "output_type": "execute_result"
    }
   ],
   "source": [
    "## Check the shape of our dataframe to ensure our newly created exclusion flag is showing\n",
    "\n",
    "df_all.shape"
   ]
  },
  {
   "cell_type": "code",
   "execution_count": 32,
   "id": "2c226493",
   "metadata": {},
   "outputs": [],
   "source": [
    "## the above results confirms our newly created column "
   ]
  },
  {
   "cell_type": "markdown",
   "id": "1ea8b377",
   "metadata": {},
   "source": [
    "### Create a new subset and export the sample"
   ]
  },
  {
   "cell_type": "code",
   "execution_count": 35,
   "id": "f5b0437f",
   "metadata": {},
   "outputs": [],
   "source": [
    "## Create a subset for low_activity customers\n",
    "\n",
    "low_activity_subset = df_all[df_all['activity'] == 'low_activity']\n",
    "\n",
    "## Export the new subset \n",
    "\n",
    "low_activity_subset.to_pickle(os.path.join(path, '02 Data','Prepared Data','Low_activity_Customers.pkl'))"
   ]
  },
  {
   "cell_type": "code",
   "execution_count": 34,
   "id": "749a0404",
   "metadata": {},
   "outputs": [
    {
     "data": {
      "text/plain": [
       "(1440295, 32)"
      ]
     },
     "execution_count": 34,
     "metadata": {},
     "output_type": "execute_result"
    }
   ],
   "source": [
    "low_activity_subset.shape"
   ]
  },
  {
   "cell_type": "code",
   "execution_count": 36,
   "id": "33f2aab7",
   "metadata": {},
   "outputs": [],
   "source": [
    "# Exclude the low_activity subset from the original DataFrame\n",
    "\n",
    "df_all_4 = df_all[df_all['activity'] == 'high_activity']"
   ]
  },
  {
   "cell_type": "code",
   "execution_count": 37,
   "id": "76d8e300",
   "metadata": {},
   "outputs": [
    {
     "data": {
      "text/plain": [
       "(30964564, 32)"
      ]
     },
     "execution_count": 37,
     "metadata": {},
     "output_type": "execute_result"
    }
   ],
   "source": [
    "# Check the new dataframe:\n",
    "\n",
    "df_all_4.shape"
   ]
  },
  {
   "cell_type": "code",
   "execution_count": 38,
   "id": "dc0932e4",
   "metadata": {},
   "outputs": [],
   "source": [
    "# The number of rows matches the frequency results for high_activity output on line 30"
   ]
  },
  {
   "cell_type": "markdown",
   "id": "5385f32e",
   "metadata": {},
   "source": [
    "### Export the latest dataframe where low_activity customers are excluded"
   ]
  },
  {
   "cell_type": "code",
   "execution_count": 39,
   "id": "30df5d88",
   "metadata": {},
   "outputs": [],
   "source": [
    "df_all_4.to_pickle(os.path.join(path, '02 Data', 'Prepared Data', 'df_all_high.pkl'))"
   ]
  },
  {
   "cell_type": "code",
   "execution_count": null,
   "id": "35afdf88",
   "metadata": {},
   "outputs": [],
   "source": []
  }
 ],
 "metadata": {
  "kernelspec": {
   "display_name": "Python 3 (ipykernel)",
   "language": "python",
   "name": "python3"
  },
  "language_info": {
   "codemirror_mode": {
    "name": "ipython",
    "version": 3
   },
   "file_extension": ".py",
   "mimetype": "text/x-python",
   "name": "python",
   "nbconvert_exporter": "python",
   "pygments_lexer": "ipython3",
   "version": "3.11.3"
  }
 },
 "nbformat": 4,
 "nbformat_minor": 5
}
